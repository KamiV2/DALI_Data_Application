{
  "nbformat": 4,
  "nbformat_minor": 0,
  "metadata": {
    "colab": {
      "name": "ShippingTimes.ipynb",
      "provenance": [],
      "toc_visible": true
    },
    "kernelspec": {
      "name": "python3",
      "display_name": "Python 3"
    },
    "language_info": {
      "name": "python"
    }
  },
  "cells": [
    {
      "cell_type": "markdown",
      "source": [
        "# Predicting Shipping Times with Neural Networks\n",
        "\n",
        "This neural network attempts to predict shipping time (categorized into 3 categories). It is able to predict the right shipping time category with an accuracy of ~70%. \n",
        "\n",
        "**Input Features:** \\\\\n",
        "\"Region\", \"Ship Mode\", \"Segment\", \"Sub-Category\" (one-hot encoded)\n",
        "\n",
        "**Input Shape**: \\\\\n",
        "(n, 31)\n",
        "\n",
        "**Output Shape**: \\\\\n",
        "(n, 1)\n",
        "\n",
        "Colab Link: https://colab.research.google.com/drive/1O35SMsc0DG3OLM9_ViPVXKLywIfuZkyY?usp=sharing"
      ],
      "metadata": {
        "id": "_C1w0CnrI7b6"
      }
    },
    {
      "cell_type": "code",
      "execution_count": 10,
      "metadata": {
        "id": "haxq8wyKt7Od"
      },
      "outputs": [],
      "source": [
        "import tensorflow as tf\n",
        "import pandas as pd\n",
        "import numpy as np\n",
        "import sklearn as skl\n",
        "from sklearn.preprocessing import OneHotEncoder\n",
        "from sklearn.model_selection import train_test_split\n",
        "import datetime as dt\n",
        "from tensorflow import keras\n",
        "from keras import backend as K"
      ]
    },
    {
      "cell_type": "code",
      "source": [
        "url = 'https://raw.githubusercontent.com/dali-lab/data_challenge/main/Sample%20-%20Superstore.csv'\n",
        "df = pd.read_csv(url, encoding=\"ISO-8859-1\")\n",
        "df[\"Order Date\"] = pd.to_datetime(df[\"Order Date\"])\n",
        "df[\"Ship Date\"] = pd.to_datetime(df[\"Ship Date\"])\n",
        "df[\"Shipping Time\"] = df[\"Ship Date\"] - df[\"Order Date\"]\n",
        "features = [\"Region\", \"Ship Mode\", \"Segment\", \"Sub-Category\"]\n",
        "input = df[features]\n",
        "output = df[\"Shipping Time\"].apply(lambda x: x.days // 3) # categories: Fast/0 (0-2), Medium/1 (3-5), Slow/2 (6-7)"
      ],
      "metadata": {
        "id": "440tjlR5uOf-"
      },
      "execution_count": 42,
      "outputs": []
    },
    {
      "cell_type": "code",
      "source": [
        ""
      ],
      "metadata": {
        "id": "iaCwE-ZjAJBo"
      },
      "execution_count": null,
      "outputs": []
    },
    {
      "cell_type": "code",
      "source": [
        "ohe = OneHotEncoder(sparse=False)\n",
        "ohe.fit(input)\n",
        "encoded_categories = ohe.categories_\n",
        "x = ohe.transform(input) # all features are one-hot encoded\n",
        "x_train, x_test, y_train, y_test = train_test_split(x, output)\n",
        "train_dataset = tf.data.Dataset.from_tensor_slices((x_train, y_train.to_numpy())).shuffle(128).batch(64)\n",
        "test_dataset = tf.data.Dataset.from_tensor_slices((x_test, y_test.to_numpy())).shuffle(128).batch(64)\n",
        "a = x_train.shape[1] # size of input layer"
      ],
      "metadata": {
        "id": "cq2cXK6By4_3"
      },
      "execution_count": 43,
      "outputs": []
    },
    {
      "cell_type": "code",
      "source": [
        "model = keras.Sequential([\n",
        "    keras.layers.Input(shape=(a,)),\n",
        "    keras.layers.Dense(units=17, activation='relu'),\n",
        "    keras.layers.Dense(units=12, activation='relu'),\n",
        "    keras.layers.Dense(units=8, activation='relu'),\n",
        "    keras.layers.Dense(units=3, activation='softmax')\n",
        "])\n",
        "model.compile(optimizer='Adam', \n",
        "              loss=tf.losses.SparseCategoricalCrossentropy(from_logits=True),\n",
        "              metrics=['accuracy'])\n",
        "history = model.fit(\n",
        "    train_dataset.repeat(), \n",
        "    epochs=10, \n",
        "    steps_per_epoch=500,\n",
        "    validation_data=test_dataset.repeat(), \n",
        "    validation_steps=2\n",
        ")"
      ],
      "metadata": {
        "colab": {
          "base_uri": "https://localhost:8080/"
        },
        "id": "zeMMB0Pq4bFc",
        "outputId": "30ee84f6-0863-422c-fc7f-7c2b0ced9ba2"
      },
      "execution_count": 45,
      "outputs": [
        {
          "output_type": "stream",
          "name": "stdout",
          "text": [
            "Epoch 1/10\n"
          ]
        },
        {
          "output_type": "stream",
          "name": "stderr",
          "text": [
            "/usr/local/lib/python3.7/dist-packages/tensorflow/python/util/dispatch.py:1082: UserWarning: \"`sparse_categorical_crossentropy` received `from_logits=True`, but the `output` argument was produced by a sigmoid or softmax activation and thus does not represent logits. Was this intended?\"\n",
            "  return dispatch_target(*args, **kwargs)\n"
          ]
        },
        {
          "output_type": "stream",
          "name": "stdout",
          "text": [
            "500/500 [==============================] - 3s 4ms/step - loss: 0.7283 - accuracy: 0.6267 - val_loss: 0.5833 - val_accuracy: 0.7266\n",
            "Epoch 2/10\n",
            "500/500 [==============================] - 1s 2ms/step - loss: 0.6082 - accuracy: 0.6752 - val_loss: 0.5944 - val_accuracy: 0.7109\n",
            "Epoch 3/10\n",
            "500/500 [==============================] - 1s 2ms/step - loss: 0.6021 - accuracy: 0.6784 - val_loss: 0.6005 - val_accuracy: 0.7109\n",
            "Epoch 4/10\n",
            "500/500 [==============================] - 1s 2ms/step - loss: 0.6015 - accuracy: 0.6763 - val_loss: 0.5959 - val_accuracy: 0.6797\n",
            "Epoch 5/10\n",
            "500/500 [==============================] - 1s 2ms/step - loss: 0.5992 - accuracy: 0.6779 - val_loss: 0.5941 - val_accuracy: 0.7031\n",
            "Epoch 6/10\n",
            "500/500 [==============================] - 1s 2ms/step - loss: 0.5973 - accuracy: 0.6797 - val_loss: 0.6168 - val_accuracy: 0.6719\n",
            "Epoch 7/10\n",
            "500/500 [==============================] - 1s 2ms/step - loss: 0.5965 - accuracy: 0.6780 - val_loss: 0.5997 - val_accuracy: 0.7188\n",
            "Epoch 8/10\n",
            "500/500 [==============================] - 1s 2ms/step - loss: 0.5959 - accuracy: 0.6787 - val_loss: 0.5934 - val_accuracy: 0.7109\n",
            "Epoch 9/10\n",
            "500/500 [==============================] - 1s 2ms/step - loss: 0.5956 - accuracy: 0.6793 - val_loss: 0.5841 - val_accuracy: 0.7188\n",
            "Epoch 10/10\n",
            "500/500 [==============================] - 1s 2ms/step - loss: 0.5930 - accuracy: 0.6834 - val_loss: 0.5950 - val_accuracy: 0.7031\n"
          ]
        }
      ]
    },
    {
      "cell_type": "code",
      "source": [
        ""
      ],
      "metadata": {
        "id": "wLupJbVX3S62"
      },
      "execution_count": null,
      "outputs": []
    }
  ]
}